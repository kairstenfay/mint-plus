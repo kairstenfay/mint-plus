{
 "cells": [
  {
   "cell_type": "markdown",
   "metadata": {},
   "source": [
    "![logo from Mint.com](images/Mint_Lockup_1_.png)\n",
    "\n",
    "# Mint Trends\n",
    "\n",
    "## Glossary\n",
    "**Net Worth** - renamed from \"Net\" on Mint; Assets minus Debts\n",
    "\n",
    "**Net Income** - Income minus Spending\n",
    "\n",
    "**Growth** - difference in Asset value from the previous month\n",
    "\n",
    "**Unearned Income** - Growth that is not accounted for by Net Income.\n",
    "\n",
    "**Total Income** - Income plus Unearned Income; alternatively, Growth plus Spending (Note: Spending is represented as a postiive value in Mint)"
   ]
  },
  {
   "cell_type": "code",
   "execution_count": null,
   "metadata": {},
   "outputs": [],
   "source": [
    "import re\n",
    "import locale\n",
    "import pandas as pd\n",
    "import seaborn as sns\n",
    "import matplotlib.pyplot as plt\n",
    "import numpy as np\n",
    "from datetime import datetime, timedelta\n",
    "\n",
    "\n",
    "locale.setlocale(locale.LC_ALL, '')\n",
    "\n",
    "\n",
    "def currency_to_float(arg):\n",
    "    value = re.sub(r'[$,]', '', arg)\n",
    "    return float(value)\n",
    "\n",
    "def date_string_to_datetime(arg):\n",
    "    return datetime.strptime(arg, '%B %Y')\n",
    "\n",
    "def float_to_currency(arg):\n",
    "    return locale.currency(arg)\n",
    "\n",
    "converters = {\n",
    "    'Dates': date_string_to_datetime,\n",
    "    'Assets': currency_to_float,\n",
    "    'Debts': currency_to_float,\n",
    "    'Net': currency_to_float,\n",
    "    'Income': currency_to_float,\n",
    "    'Spending': currency_to_float,\n",
    "}\n",
    "\n",
    "ONE_YEAR_AGO = (datetime.today() - timedelta(days=365)).date().isoformat()\n",
    "filter_date = ONE_YEAR_AGO[:-3] # Or replace with custom 'YYYY-MM' value"
   ]
  },
  {
   "cell_type": "code",
   "execution_count": null,
   "metadata": {
    "scrolled": true
   },
   "outputs": [],
   "source": [
    "net_worth = pd.read_csv('data/net_worth.csv', converters=converters, index_col='Dates') \\\n",
    "    .rename(columns={'Net': 'Net Worth'})\n",
    "income = pd.read_csv('data/income.csv', converters=converters, engine='python', skipfooter=1)\n",
    "spending = pd.read_csv('data/spending.csv', converters=converters, engine='python', skipfooter=1)\n",
    "\n",
    "income.index = income['Dates']\n",
    "income['Month'] = income['Dates'].apply(lambda x: x.strftime('%b %y'))\n",
    "income = income.drop(columns=['Dates'])\n",
    "spending.index = spending['Dates']\n",
    "spending = spending.drop(columns=['Dates'])\n",
    "\n",
    "combined = pd.concat([income, spending, net_worth], axis='columns')\n",
    "combined['Net Income'] = combined['Income'] - combined['Spending']\n",
    "combined['Growth'] = combined['Assets'].diff()\n",
    "combined['Unearned Income'] = combined['Growth'] - combined['Net Income']\n",
    "combined['Total Income'] = combined['Income'] + combined['Unearned Income']  # Or Growth + Spending\n",
    "\n",
    "\n",
    "# Filter after specified date\n",
    "combined = combined[combined.index >= filter_date]\n",
    "combined.tail()"
   ]
  },
  {
   "cell_type": "code",
   "execution_count": null,
   "metadata": {},
   "outputs": [],
   "source": [
    "asset_growth = np.round(\n",
    "    combined.iloc[len(combined) - 1]['Assets'] / combined.iloc[0]['Assets'] * 100, 2)\n",
    "income_growth = np.round(\n",
    "    combined.iloc[len(combined) - 2]['Total Income'] / combined.iloc[0]['Total Income'] * 100, 2)\n",
    "\n",
    "print(f\"Since {filter_date}, your \"\n",
    "      f\"Assets have grown {asset_growth}%, and your \"\n",
    "      f\"Total Income has grown {income_growth}%.\"\n",
    "      \"\\n\\n\")\n",
    "\n",
    "report = combined.drop(columns=['Debts','Assets', 'Month', 'Net Worth'])\n",
    "print(f\"Monthly average since {filter_date}:\")\n",
    "print(report.mean().apply(float_to_currency))\n",
    "print('\\n\\n')\n",
    "\n",
    "print(f\"Totals since {filter_date}:\")\n",
    "print(report.sum().apply(float_to_currency))\n",
    "print('\\n\\n')\n",
    "\n",
    "print(f\"Since {filter_date}, \"\n",
    "      f\"{np.round(report['Unearned Income'].sum() / report['Growth'].sum() * 100, 2)}% of your Growth and \" \n",
    "      f\"{np.round(report['Unearned Income'].sum() / report['Total Income'].sum() * 100, 2)}% \" \n",
    "      \"of your Total Income is from Unearned Income.\\nUnearned Income covers \" \n",
    "      f\"{np.round(report['Unearned Income'].sum() / report['Spending'].sum() * 100, 2)}% \"\n",
    "      \"of your Spending.\")"
   ]
  },
  {
   "cell_type": "code",
   "execution_count": null,
   "metadata": {},
   "outputs": [],
   "source": [
    "# Create long data set to utilize Seaborn's categorical plotting features\n",
    "long_combined = combined[['Income', 'Unearned Income']] \\\n",
    "    .melt(ignore_index=False)\n",
    "\n",
    "plt.figure(figsize = (16,9))\n",
    "g = sns.barplot(x=long_combined.index, y=\"value\",\n",
    "             hue=\"variable\",\n",
    "             data=long_combined)\n",
    "g.set_xticklabels(combined[\"Month\"])\n",
    "plt.title(f\"Income over Time since {filter_date}\", fontsize = 20)\n",
    "plt.xlabel(\"Month\", fontsize = 15)\n",
    "plt.ylabel(\"Total\", fontsize = 15)\n",
    "plt.show()\n"
   ]
  },
  {
   "cell_type": "code",
   "execution_count": null,
   "metadata": {},
   "outputs": [],
   "source": [
    "# Create long data set to utilize Seaborn's categorical plotting features\n",
    "long_combined = combined[['Income', 'Unearned Income', 'Spending']] \\\n",
    "    .melt(ignore_index=False)\n",
    "\n",
    "plt.figure(figsize = (16,9))\n",
    "g = sns.lineplot(x=long_combined.index, y=\"value\",\n",
    "             hue=\"variable\",\n",
    "             data=long_combined)\n",
    "plt.title(f\"Income and Spending over Time since {filter_date}\", fontsize = 20)\n",
    "plt.xlabel(\"Month\", fontsize = 15)\n",
    "plt.ylabel(\"Total\", fontsize = 15)\n",
    "plt.show()\n"
   ]
  },
  {
   "cell_type": "code",
   "execution_count": null,
   "metadata": {},
   "outputs": [],
   "source": [
    "plt.figure(figsize = (16,4))\n",
    "g = sns.barplot(x=combined.index, y=\"Total Income\", data=combined)\n",
    "g.set_xticklabels(combined[\"Month\"])\n",
    "plt.title(\"Total Income over Time\", fontsize = 20)\n",
    "plt.xlabel(\"Month\", fontsize = 15)\n",
    "plt.ylabel(\"Total\", fontsize = 15)\n",
    "plt.show()"
   ]
  },
  {
   "cell_type": "code",
   "execution_count": null,
   "metadata": {
    "scrolled": true
   },
   "outputs": [],
   "source": [
    "plt.figure(figsize = (16,4))\n",
    "g = sns.lineplot(x=combined.index, y=\"Net Worth\", data=combined)\n",
    "plt.title(\"Net Worth over Time\", fontsize = 20)\n",
    "plt.xlabel(\"Month\", fontsize = 15)\n",
    "plt.ylabel(\"Total\", fontsize = 15)\n",
    "plt.show()"
   ]
  },
  {
   "cell_type": "code",
   "execution_count": null,
   "metadata": {},
   "outputs": [],
   "source": [
    "plt.figure(figsize = (16,4))\n",
    "g = sns.barplot(x=combined.index, y=\"Growth\", data=combined)\n",
    "g.set_xticklabels(combined[\"Month\"])\n",
    "plt.title(\"Growth over Time\", fontsize = 20)\n",
    "plt.xlabel(\"Month\", fontsize = 15)\n",
    "plt.ylabel(\"Total\", fontsize = 15)\n",
    "plt.show()"
   ]
  },
  {
   "cell_type": "code",
   "execution_count": null,
   "metadata": {},
   "outputs": [],
   "source": [
    "plt.figure(figsize = (16,4))\n",
    "g = sns.barplot(x=combined.index, y=\"Unearned Income\", data=combined)\n",
    "g.set_xticklabels(combined[\"Month\"])\n",
    "plt.title(\"Unearned Income over Time\", fontsize = 20)\n",
    "plt.xlabel(\"Month\", fontsize = 15)\n",
    "plt.ylabel(\"Total\", fontsize = 15)\n",
    "plt.show()"
   ]
  }
 ],
 "metadata": {
  "kernelspec": {
   "display_name": "Python 3",
   "language": "python",
   "name": "python3"
  },
  "language_info": {
   "codemirror_mode": {
    "name": "ipython",
    "version": 3
   },
   "file_extension": ".py",
   "mimetype": "text/x-python",
   "name": "python",
   "nbconvert_exporter": "python",
   "pygments_lexer": "ipython3",
   "version": "3.7.9"
  }
 },
 "nbformat": 4,
 "nbformat_minor": 4
}
