{
 "cells": [
  {
   "cell_type": "code",
   "execution_count": null,
   "metadata": {},
   "outputs": [],
   "source": [
    "import re\n",
    "import pandas as pd\n",
    "import seaborn as sns\n",
    "import matplotlib.pyplot as plt\n",
    "from datetime import datetime\n",
    "\n",
    "def currency_to_float(arg):\n",
    "    value = re.sub(r'[$,]', '', arg)\n",
    "    return float(value)\n",
    "\n",
    "def date_string_to_datetime(arg):\n",
    "    return datetime.strptime(arg, '%B %Y')\n",
    "\n",
    "converters = {\n",
    "    'Dates': date_string_to_datetime,\n",
    "    'Assets': currency_to_float,\n",
    "    'Debts': currency_to_float,\n",
    "    'Net': currency_to_float,\n",
    "    'Income': currency_to_float,\n",
    "    'Spending': currency_to_float,\n",
    "}"
   ]
  },
  {
   "cell_type": "code",
   "execution_count": null,
   "metadata": {},
   "outputs": [],
   "source": [
    "net_worth = pd.read_csv('data/net_worth.csv', converters=converters, index_col='Dates') \\\n",
    "    .rename(columns={'Net': 'Net Worth'})\n",
    "income = pd.read_csv('data/income.csv', converters=converters, engine='python', skipfooter=1)\n",
    "spending = pd.read_csv('data/spending.csv', converters=converters, engine='python', skipfooter=1)\n",
    "\n",
    "income.index = income['Dates']\n",
    "income['Month'] = income['Dates'].apply(lambda x: x.strftime('%b %y'))\n",
    "income = income.drop(columns=['Dates'])\n",
    "spending.index = spending['Dates']\n",
    "spending = spending.drop(columns=['Dates'])\n",
    "\n",
    "combined = pd.concat([income, spending, net_worth], axis='columns')\n",
    "combined['Net Income'] = combined['Income'] - combined['Spending']\n",
    "combined['Growth'] = combined['Assets'].diff()\n",
    "combined['Unearned Income'] = combined['Growth'] - combined['Net Income']\n",
    "\n",
    "# Filter to Jan 2019 and after\n",
    "combined = combined[combined.index >= '2019-01-01']\n",
    "\n",
    "print(combined.drop(columns=['Month']).sum())\n",
    "combined.tail()"
   ]
  },
  {
   "cell_type": "code",
   "execution_count": null,
   "metadata": {},
   "outputs": [],
   "source": [
    "# Create long data set to utilize Seaborn's categorical plotting features\n",
    "long_combined = combined[['Income', 'Unearned Income']] \\\n",
    "    .melt(ignore_index=False)\n",
    "\n",
    "plt.figure(figsize = (16,9))\n",
    "g = sns.barplot(x=long_combined.index, y=\"value\",\n",
    "             hue=\"variable\",\n",
    "             data=long_combined)\n",
    "g.set_xticklabels(combined[\"Month\"])\n",
    "plt.title(\"Income over Time\", fontsize = 20)\n",
    "plt.xlabel(\"Month\", fontsize = 15)\n",
    "plt.ylabel(\"Total\", fontsize = 15)\n",
    "plt.show()\n"
   ]
  },
  {
   "cell_type": "code",
   "execution_count": null,
   "metadata": {
    "scrolled": true
   },
   "outputs": [],
   "source": [
    "plt.figure(figsize = (16,4))\n",
    "g = sns.barplot(x=combined.index, y=\"Net Worth\", data=combined)\n",
    "g.set_xticklabels(combined[\"Month\"])\n",
    "plt.title(\"Net Worth over Time\", fontsize = 20)\n",
    "plt.xlabel(\"Month\", fontsize = 15)\n",
    "plt.ylabel(\"Total\", fontsize = 15)\n",
    "plt.show()\n"
   ]
  },
  {
   "cell_type": "code",
   "execution_count": null,
   "metadata": {},
   "outputs": [],
   "source": [
    "plt.figure(figsize = (16,4))\n",
    "g = sns.barplot(x=combined.index, y=\"Growth\", data=combined)\n",
    "g.set_xticklabels(combined[\"Month\"])\n",
    "plt.title(\"Growth over Time\", fontsize = 20)\n",
    "plt.xlabel(\"Month\", fontsize = 15)\n",
    "plt.ylabel(\"Total\", fontsize = 15)\n",
    "plt.show()"
   ]
  },
  {
   "cell_type": "code",
   "execution_count": null,
   "metadata": {},
   "outputs": [],
   "source": [
    "plt.figure(figsize = (16,4))\n",
    "g = sns.barplot(x=combined.index, y=\"Unearned Income\", data=combined)\n",
    "g.set_xticklabels(combined[\"Month\"])\n",
    "plt.title(\"Unearned Income over Time\", fontsize = 20)\n",
    "plt.xlabel(\"Month\", fontsize = 15)\n",
    "plt.ylabel(\"Total\", fontsize = 15)\n",
    "plt.show()"
   ]
  },
  {
   "cell_type": "code",
   "execution_count": null,
   "metadata": {},
   "outputs": [],
   "source": [
    "plt.figure(figsize = (16,4))\n",
    "g = sns.barplot(x=combined.index, y=\"Income\", data=combined)\n",
    "g.set_xticklabels(combined[\"Month\"])\n",
    "plt.title(\"Income over Time\", fontsize = 20)\n",
    "plt.xlabel(\"Month\", fontsize = 15)\n",
    "plt.ylabel(\"Total\", fontsize = 15)\n",
    "plt.show()"
   ]
  },
  {
   "cell_type": "code",
   "execution_count": null,
   "metadata": {},
   "outputs": [],
   "source": [
    "plt.figure(figsize = (16,4))\n",
    "g = sns.barplot(x=combined.index, y=\"Spending\", data=combined)\n",
    "g.set_xticklabels(combined[\"Month\"])\n",
    "plt.title(\"Spending over Time\", fontsize = 20)\n",
    "plt.xlabel(\"Month\", fontsize = 15)\n",
    "plt.ylabel(\"Total\", fontsize = 15)\n",
    "plt.show()"
   ]
  }
 ],
 "metadata": {
  "kernelspec": {
   "display_name": "Python 3",
   "language": "python",
   "name": "python3"
  },
  "language_info": {
   "codemirror_mode": {
    "name": "ipython",
    "version": 3
   },
   "file_extension": ".py",
   "mimetype": "text/x-python",
   "name": "python",
   "nbconvert_exporter": "python",
   "pygments_lexer": "ipython3",
   "version": "3.7.9"
  }
 },
 "nbformat": 4,
 "nbformat_minor": 4
}
